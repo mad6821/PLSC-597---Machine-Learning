{
 "cells": [
  {
   "cell_type": "markdown",
   "id": "5e4713b4-b304-46e8-bb3e-8135f83ddac6",
   "metadata": {},
   "source": [
    "# PLSC 597 - Homework 2\n",
    "### Maya Dalton (10/23/23)\n",
    "\n",
    "Please find my Jupyter Notebook file and data file for this assignment [here.](https://github.com/mad6821/PLSC-597---Machine-Learning)\n",
    "\n",
    "BERNHARD, R., SHAMES, S., & TEELE, D. (2021). To Emerge? Breadwinning, Motherhood, and Women’s Decisions to Run for Office. American Political Science Review, 115(2), 379-394. doi:10.1017/S0003055420000970\n"
   ]
  },
  {
   "cell_type": "code",
   "execution_count": 6,
   "id": "a8da39c3-d794-45c6-83ad-f458230f3e8b",
   "metadata": {},
   "outputs": [
    {
     "name": "stdout",
     "output_type": "stream",
     "text": [
      "   ran  hhexpenses  binincome  yeargrad       state     eth  edu      area  \\\n",
      "0    1         4.0        5.0    2010.0  California  Latinx  6.0  Suburban   \n",
      "1    0         4.0        2.0    2016.0       Maine   White  6.0     Rural   \n",
      "2    0         3.0        2.0    2014.0    Virginia   Black  8.0  Suburban   \n",
      "3    0         2.0        5.0    2013.0   Wisconsin   Black  5.0     Urban   \n",
      "4    0         3.0        5.0    2014.0  New Mexico   Black  7.0     Urban   \n",
      "\n",
      "   lgbt  reasons  activedem  psychindex  singlehh  kids  \n",
      "0     0      3.0        2.0      0.4375       1.0     0  \n",
      "1     0      1.0        1.0      0.1250       1.0     0  \n",
      "2     0      4.0        1.0      0.5625       0.0     0  \n",
      "3     0      4.0        1.0      0.3750       0.0     1  \n",
      "4     1      4.0        2.0      0.2500       0.0     1  \n"
     ]
    }
   ],
   "source": [
    "# Importing libraries, storing as shorthand\n",
    "import numpy as np       \n",
    "import pandas as pd\n",
    "import statsmodels.api as sm\n",
    "import seaborn as sns\n",
    "import matplotlib.pyplot as plt  \n",
    "from sklearn.model_selection import train_test_split, cross_val_score\n",
    "from sklearn.pipeline import make_pipeline\n",
    "from sklearn.compose import ColumnTransformer\n",
    "from sklearn.preprocessing import StandardScaler, LabelEncoder\n",
    "from sklearn.linear_model import LinearRegression, LogisticRegression\n",
    "from sklearn.ensemble import RandomForestClassifier\n",
    "from sklearn.svm import SVC\n",
    "from sklearn.metrics import accuracy_score, mean_squared_error\n",
    "from sklearn.inspection import permutation_importance\n",
    "\n",
    "import warnings\n",
    "warnings.filterwarnings('ignore')\n",
    "\n",
    "# Read the .dta file into a pandas DataFrame\n",
    "df = pd.read_csv('berhardetal_clean.csv')\n",
    "df_c = df[[\"ran\", \"hhexpenses\", \"binincome\", \"yeargrad\", \"state\", \"eth\", \"edu\", \"area\", \"lgbt\", \"reasons\", \"activedem\", \"psychindex\", \"singlehh\", \"kids\"]]\n",
    "print(df_c.head())"
   ]
  },
  {
   "cell_type": "markdown",
   "id": "a197cc2f-92d9-4761-a2c2-d8a34f11e00c",
   "metadata": {},
   "source": [
    "## Question 1"
   ]
  },
  {
   "cell_type": "markdown",
   "id": "52e52ba6-d583-4987-970b-d82bee8844ab",
   "metadata": {},
   "source": [
    "A vast amount of literature examines women's political representation, and barriers to women's entry to the political sphere. Berhard, Shames, and Teele (2021) analyze women's political ambition to run for office, focusing on household effects that may influence women to step down from running for office. They examine specifically the effects of household income, breadwinning responsibilities, and household composition as barriers to candidacy. The authors employ a mutlimethod design including a survey of alumnae from Emerge America -- a large Democratic campaign training organization in the United States. \n",
    "\n",
    "The authors hypothesize that three factors contribute to a woman's decision to run for office: (1) income constraints if lower household income prevents poorer women from investing time in political service, (2) breadwinner constraints if responsibility for share of income reduces women’s tendency to run for office, and (3) an interaction of income and breadwinning contraints with household composition (i.e., single mothers, number of children, etc.). Using bivariate ordinary least squares regression, paired with survey results, the authors do not find income effects, but do find evidence that breadwinning—responsibility negatively affects women’s ambition.\n",
    "\n",
    "As a robustness check, the authors estimate a logistic regression model to estimate the effects of income and household contributions on women's political ambition. They run multiple different models, incorporating more covariates into each model. The basic bivariate model simply includes a woman's decision to run for office and each of the independent variables of interest. Subsequent models include fixed effects for year and state, demographic information (ethnicity, education, LGBTQ+ affiliation), political environment, psychological fears, and finally, family variables. \n",
    "\n",
    "Below, I present the replicated results of the full model including all covariates. While the authors report the estimated coefficients and 95% confidence intervals in a plot due to the number of models, I've simply printed out the estimates. They are the same as reported in the authors' appendix. The reported coefficients are in terms of odd ratios, where an odds ratio of 1 means there is no change in the odds of running for office with a one-unit change in contribution to household expenses (e.g., from 25% to 50%) or income (e.g., from \\\\$25,000 to \\\\$50,000).  "
   ]
  },
  {
   "cell_type": "code",
   "execution_count": 2,
   "id": "23314a9f-2a5f-4d6b-8c39-76cd06083fd6",
   "metadata": {},
   "outputs": [
    {
     "name": "stdout",
     "output_type": "stream",
     "text": [
      "   ran  hhexpenses  binincome  yeargrad  edu  lgbt  reasons  activedem  \\\n",
      "0    1         4.0        5.0    2010.0  6.0     0      3.0        2.0   \n",
      "1    0         4.0        2.0    2016.0  6.0     0      1.0        1.0   \n",
      "2    0         3.0        2.0    2014.0  8.0     0      4.0        1.0   \n",
      "3    0         2.0        5.0    2013.0  5.0     0      4.0        1.0   \n",
      "4    0         3.0        5.0    2014.0  7.0     1      4.0        2.0   \n",
      "\n",
      "   psychindex  singlehh  ...  state_Washington  state_Wisconsin  eth_AAPI  \\\n",
      "0      0.4375       1.0  ...                 0                0         0   \n",
      "1      0.1250       1.0  ...                 0                0         0   \n",
      "2      0.5625       0.0  ...                 0                0         0   \n",
      "3      0.3750       0.0  ...                 0                1         0   \n",
      "4      0.2500       0.0  ...                 0                0         0   \n",
      "\n",
      "   eth_Black  eth_Latinx  eth_Other/Prefer Not to Say  eth_White  area_Rural  \\\n",
      "0          0           1                            0          0           0   \n",
      "1          0           0                            0          1           1   \n",
      "2          1           0                            0          0           0   \n",
      "3          1           0                            0          0           0   \n",
      "4          1           0                            0          0           0   \n",
      "\n",
      "   area_Suburban  area_Urban  \n",
      "0              1           0  \n",
      "1              0           0  \n",
      "2              1           0  \n",
      "3              0           1  \n",
      "4              0           1  \n",
      "\n",
      "[5 rows x 43 columns]\n"
     ]
    }
   ],
   "source": [
    "# One-Hot Encoding for nominal variables: state, ethnicity, and area\n",
    "df_encoded = pd.get_dummies(df_c, columns=['state', 'eth', 'area'])\n",
    "print(df_encoded.head())"
   ]
  },
  {
   "cell_type": "code",
   "execution_count": 3,
   "id": "a8670b26-af71-4a15-b72c-eaa076b307c6",
   "metadata": {},
   "outputs": [
    {
     "name": "stdout",
     "output_type": "stream",
     "text": [
      "Intercept (beta_0): 2.992664740041166e+23\n",
      "Coefficient for Income (beta_1): 1.0125813209620282\n"
     ]
    }
   ],
   "source": [
    "# Income model\n",
    "df_encoded = df_encoded.dropna(axis = 0) # Drop NAs\n",
    "\n",
    "# Separate features/predictors and target variable\n",
    "X_inc = df_encoded.drop(['ran', 'hhexpenses'], axis=1) # drop household expenses as well, since it's in the second model\n",
    "y_inc = df_encoded[['ran']]  \n",
    "\n",
    "# Split the data into training (70%) and test (30%) sets\n",
    "X_train, X_test, y_train, y_test = train_test_split(X_inc, y_inc, test_size=0.3, random_state=918)\n",
    "y_train = np.ravel(y_train)\n",
    "\n",
    "unreg_logit_inc = LinearRegression().fit(X_train, y_train)\n",
    "intercept = np.exp(unreg_logit_inc.intercept_)\n",
    "coefs = np.exp(unreg_logit_inc.coef_[0])\n",
    "\n",
    "preds_inc = unreg_logit_inc.predict(X_test)\n",
    "mse_inc = mean_squared_error(y_test, preds_inc)\n",
    "\n",
    "print(\"Intercept (beta_0):\", intercept)\n",
    "print(\"Coefficient for Income (beta_1):\", coefs.mean())"
   ]
  },
  {
   "cell_type": "code",
   "execution_count": 4,
   "id": "ca684b5b-ccae-47da-9696-cf3ce36a2f49",
   "metadata": {},
   "outputs": [
    {
     "name": "stdout",
     "output_type": "stream",
     "text": [
      "Intercept (beta_0): 5.719084610226367e+22\n",
      "Coefficient for Household Contribution (beta_1): 0.9814518207650097\n"
     ]
    }
   ],
   "source": [
    "# Household expenses model\n",
    "# Separate features/predictors and target variable\n",
    "X_hh = df_encoded.drop(['ran', 'binincome'], axis=1) # drop income as well, since it's in the second model\n",
    "y_hh = df_encoded[['ran']]  \n",
    "\n",
    "# Split the data into training (70%) and test (30%) sets\n",
    "X_train, X_test, y_train, y_test = train_test_split(X_hh, y_hh, test_size=0.3, random_state=918)\n",
    "y_train = np.ravel(y_train)\n",
    "\n",
    "unreg_logit_hh = LinearRegression().fit(X_train, y_train)\n",
    "intercept = np.exp(unreg_logit_hh.intercept_)\n",
    "coefs = np.exp(unreg_logit_hh.coef_[0])\n",
    "\n",
    "preds_hh = unreg_logit_hh.predict(X_test)\n",
    "mse_hh = mean_squared_error(y_test, preds_hh)\n",
    "\n",
    "print(\"Intercept (beta_0):\", intercept)\n",
    "print(\"Coefficient for Household Contribution (beta_1):\", coefs.mean())"
   ]
  },
  {
   "cell_type": "markdown",
   "id": "1ad8d8f5-ef46-4b22-bd39-17628a846756",
   "metadata": {},
   "source": [
    "## Question 2\n",
    "\n",
    "Here, I use the test data (splitting into 70% training and 30% test) to evaluate the performance of the model via cross-validation. I've identified a SVM, Random Forest, and Regularized Logistic Regression with subsequent parameters for performance. As shown below, of these three options the random forest model performs the best, at about 68.4%. The SVM and regularized logistic regression models perform similarly at about 60-61% accuracy."
   ]
  },
  {
   "cell_type": "code",
   "execution_count": 7,
   "id": "d25718cf-84c9-4dfc-9940-b21d51638482",
   "metadata": {},
   "outputs": [
    {
     "name": "stdout",
     "output_type": "stream",
     "text": [
      "SVM Mean Accuracy: 0.60930\n",
      "Random Forest Mean Accuracy: 0.68442\n",
      "Regularized Logit Mean Accuracy: 0.61805\n"
     ]
    }
   ],
   "source": [
    "# Create pipelines for the three models\n",
    "svm_pipeline = make_pipeline(StandardScaler(), SVC(kernel='linear'))\n",
    "rf_pipeline = make_pipeline(RandomForestClassifier(n_estimators=100, random_state=42))\n",
    "logreg_pipeline = make_pipeline(StandardScaler(), LogisticRegression(penalty='l2', C=1.0, max_iter=1000, random_state=42))\n",
    "\n",
    "# Evaluate the models using cross-validation and compare their performances\n",
    "models = [(\"SVM\", svm_pipeline), (\"Random Forest\", rf_pipeline), (\"Regularized Logit\", logreg_pipeline)]\n",
    "\n",
    "for model_name, model in models:\n",
    "    scores = cross_val_score(model, X_train, y_train, cv=5, scoring='accuracy')\n",
    "    mean_accuracy = scores.mean()\n",
    "    print(f\"{model_name} Mean Accuracy: {mean_accuracy:.5f}\")"
   ]
  },
  {
   "cell_type": "markdown",
   "id": "ce0d2a40-bcd7-4018-8f47-a653e0f3d0c7",
   "metadata": {},
   "source": [
    "## Question 3\n",
    "Using the test data now, I compare the original logit moddels with the other model options. As shown below, the unregularized logit models both perform very poorly at predicting if a woman runs for office, with a test accuracy of 15.2%. On the other hand, random forest model again does the best at predicting with a test accuracy of 74.8%. The SVM and regularized logit again perform similarly, with 67-68% accuracy. "
   ]
  },
  {
   "cell_type": "code",
   "execution_count": 8,
   "id": "5befab70-bd47-4faa-b1c8-f2e4cbcbb36f",
   "metadata": {},
   "outputs": [
    {
     "name": "stdout",
     "output_type": "stream",
     "text": [
      "Income Logit Test Accuracy: 0.15212\n",
      "HH Contribution Logit Test Accuracy: 0.15212\n",
      "SVM Test Accuracy: 0.68205\n",
      "Random Forest Test Accuracy: 0.74872\n",
      "Regularized Logit Test Accuracy: 0.67692\n"
     ]
    }
   ],
   "source": [
    "models = [(\"Income Logit\", unreg_logit_inc),(\"HH Contribution Logit\", unreg_logit_hh), (\"SVM\", svm_pipeline), \n",
    "          (\"Random Forest\", rf_pipeline), (\"Regularized Logit\", logreg_pipeline)]\n",
    "\n",
    "for model_name, model in models:\n",
    "    model.fit(X_train, y_train)\n",
    "    preds = model.predict(X_test)\n",
    "    test_acc = model.score(X_test, y_test)\n",
    "    print(f\"{model_name} Test Accuracy: {test_acc:.5f}\")"
   ]
  },
  {
   "cell_type": "markdown",
   "id": "eebae909-7def-432c-9c50-92fcff016291",
   "metadata": {},
   "source": [
    "## Question 4\n",
    "The figure below depicts the permutation importance of independent variables on the decision for a woman to run for office. \n",
    "Across all models, the unregularized logits are very similar (obviously, as they only have one independent variable difference). The SVM and regularized logits are also very similar in which variables have most importance. For example, the active democrat variable is similar for each of these models, however, if an individual has kids has more permutation importance in the regularized logit than the SVM model.\n",
    "\n",
    "The random forest model -- which is the best performing model -- varies the most on vairiable importance. The other models have the highest significance attributed to variables recovering (1) reasons for **not** running, (2) active democrats, and (3) children. The random forest model, on the other hand, (1) has the highest permutation importance with relation to the reasons for not running, (2) **low** importance in active democrats, and (3) middle importance of having kids. Furthermore, the random forest model attibutes more importance to psychological fears of running for office than other variables. \n",
    "\n",
    "The authors find that a logistic regression recovers similar results (as shown in Appendix C-2) to the OLS regression results (Figure 4). Overall, they finds that there is no significant effect on women running for office when controlling for political environment, psychological fears, and household contribution. After probing the interaction between household composition and income responsibilities, the authors futher find that nonworking mothers with partners are most likely to run for office. Among women who do not have the additional burden of breadwinning, having children on its own does not depress candidacy. The original model finds that a woman's decision to run is based on her demographics and household income contributions.\n",
    "\n",
    "The random forest similarly does not attribute much importance to household composition (kids, partner, etc.) or political environment. However, it does have high permutation importance in psychological fears (psychindex), reasons to not run, and a handful of demographic variables. \n"
   ]
  },
  {
   "cell_type": "code",
   "execution_count": 13,
   "id": "a8e9248c-8634-4119-b8f8-c2068865ba06",
   "metadata": {},
   "outputs": [
    {
     "data": {
      "image/png": "[encoded data removed]",
      "text/plain": [
       "<Figure size 1008x360 with 1 Axes>"
      ]
     },
     "metadata": {
      "needs_background": "light"
     },
     "output_type": "display_data"
    }
   ],
   "source": [
    "graph_data = {}\n",
    "for model_name, model in models:\n",
    "    perm_importance = permutation_importance(model, X_test, y_test)\n",
    "    graph_data[model_name] = perm_importance.importances_mean\n",
    "    \n",
    "# make final dataframe\n",
    "graph_data = pd.DataFrame.from_dict(graph_data, orient='index', columns=X_inc.columns)\n",
    "graph_data_c = graph_data[[\"binincome\", \"yeargrad\", \"eth_White\", \"eth_Black\", \"eth_Latinx\", \"eth_AAPI\", \"edu\", \n",
    "           \"lgbt\", \"reasons\", \"activedem\", \"psychindex\", \"singlehh\", \"kids\", \"area_Urban\", \"area_Rural\"]]\n",
    "graph_data_c.reset_index(inplace=True, drop=False)\n",
    "graph_data_c.rename(columns={'index': 'model'}, inplace=True)\n",
    "graph_data_c = graph_data_c.melt(id_vars='model')\n",
    "\n",
    "# create visual\n",
    "plt.figure(figsize=[14,5])\n",
    "plt.axhline(0, c='black')\n",
    "[plt.axvline(i + 0.5, linestyle='--', c='black') for i in range(0, len(X_inc.columns))]\n",
    "ax = sns.barplot(x=graph_data_c['variable'], y=graph_data_c['value'], hue=graph_data_c['model'])\n",
    "plt.title(\"Permutation Feature Importance Between Models\")\n",
    "plt.xlabel(\"Variable Name\")\n",
    "plt.ylabel(\"Avg. Feature Importance\")\n",
    "plt.xticks(rotation=45)\n",
    "plt.show()"
   ]
  }
 ],
 "metadata": {
  "kernelspec": {
   "display_name": "Python 3",
   "language": "python",
   "name": "python3"
  },
  "language_info": {
   "codemirror_mode": {
    "name": "ipython",
    "version": 3
   },
   "file_extension": ".py",
   "mimetype": "text/x-python",
   "name": "python",
   "nbconvert_exporter": "python",
   "pygments_lexer": "ipython3",
   "version": "3.8.8"
  }
 },
 "nbformat": 4,
 "nbformat_minor": 5
}
