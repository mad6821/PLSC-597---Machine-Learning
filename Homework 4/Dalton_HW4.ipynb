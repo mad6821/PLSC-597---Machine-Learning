{
  "nbformat": 4,
  "nbformat_minor": 0,
  "metadata": {
    "colab": {
      "provenance": [],
      "collapsed_sections": [
        "Y5E0ZYPwTSYB",
        "XPyGahiYT7_L"
      ],
      "authorship_tag": "ABX9TyPGe/8VSVnPBUSji2gSbip1"
    },
    "kernelspec": {
      "name": "python3",
      "display_name": "Python 3"
    },
    "language_info": {
      "name": "python"
    }
  },
  "cells": [
    {
      "cell_type": "markdown",
      "source": [
        "# PLSC 597 - Homework 4\n",
        "### Maya Dalton (12/4/23)\n",
        "\n",
        "Please find my Jupyter Notebook file and data file for this assignment [here.](https://github.com/mad6821/PLSC-597---Machine-Learning)\n"
      ],
      "metadata": {
        "id": "Hqmc5Qf0TJqv"
      }
    },
    {
      "cell_type": "code",
      "execution_count": 1,
      "metadata": {
        "id": "lMUut7JQS0ks"
      },
      "outputs": [],
      "source": [
        "# Importing libraries, storing as shorthand\n",
        "# pip install torch\n",
        "import numpy as np\n",
        "import pandas as pd\n",
        "import seaborn as sns\n",
        "import statsmodels.api as sm\n",
        "import matplotlib.pyplot as plt\n",
        "import torch\n",
        "import torch.nn as nn\n",
        "\n",
        "from torch.utils.data import TensorDataset\n",
        "from torch.utils.data import DataLoader\n",
        "import torch.optim as optim\n",
        "\n",
        "from sklearn.model_selection import train_test_split\n",
        "from sklearn.decomposition import PCA\n",
        "from sklearn.preprocessing import MinMaxScaler, StandardScaler, LabelEncoder\n",
        "from sklearn.model_selection import train_test_split\n",
        "from sklearn.linear_model import LogisticRegression\n",
        "from sklearn.metrics import mean_squared_error, accuracy_score, classification_report, confusion_matrix\n"
      ]
    },
    {
      "cell_type": "markdown",
      "source": [
        "## Question 1\n",
        "\n",
        "I utilized my MA thesis data derived from the Varieties of Democracy (VDEM) and Electoral Contention and Violence (ECAV) datasets. ECAV contains information on nonviolent and violent contention related 1,208 to national in 136 countries from 1990-2012. From VDEM, I derive a set of predictor variables of electoral violence. These variables include regime type, electoral system, political competition, international election monitoring, candidate restrictions, social group power opportunities, and gross domestic product (GDP). I compare two neural network models: (1) a single layer RNN, (2) a LSTM RNN. I plan to use this data to forecast electoral violence for the next year based on the best performing RNN model."
      ],
      "metadata": {
        "id": "Y5E0ZYPwTSYB"
      }
    },
    {
      "cell_type": "code",
      "source": [
        "def load_data(): # Load in data and set X and y\n",
        "    df = pd.read_csv('dalton_df.csv')\n",
        "    # One-Hot Encoding for country variable\n",
        "    df_encoded = pd.get_dummies(df, columns=['country'])\n",
        "    X = df_encoded.drop('elect_vio', axis=1) # Predictors\n",
        "    y = df_encoded['elect_vio'] # Conflict\n",
        "    return X, y, df\n",
        "    pass\n",
        "\n",
        "def preprocess_data(X, y): # Scale X variable\n",
        "    scaler = StandardScaler()\n",
        "    X_scaled = scaler.fit_transform(X)\n",
        "    return torch.tensor(X_scaled, dtype=torch.float32), torch.tensor(y, dtype=torch.float32)"
      ],
      "metadata": {
        "id": "V0VCNPkNVP4R"
      },
      "execution_count": 2,
      "outputs": []
    },
    {
      "cell_type": "code",
      "source": [
        "X, y, df = load_data()\n",
        "\n",
        "# Preprocess data\n",
        "X_processed, y_processed = preprocess_data(X, y)\n",
        "\n",
        "X_train, X_val, y_train, y_val = train_test_split(X_processed, y_processed, test_size=0.2, random_state=42)\n",
        "y_train = np.array(y_train)"
      ],
      "metadata": {
        "id": "aE-QPmaUhera"
      },
      "execution_count": 3,
      "outputs": []
    },
    {
      "cell_type": "markdown",
      "source": [
        "## Question 2\n",
        "The first model is utilizes an RNN with a fully connected recurrent layer and a linear activation function. The second model is a long-term memory cell (LSTM) RNN model, also using a linear activation function. Both models' hidden layers have 64 neurons and the output layer utilizes a cross entropy loss function derived from the sigmoid function. I first define the training and evaluation function for the models, retaining their training history for further analysis. I then build each RNN model and compare their training loss and training and validation accuracy across multiple epochs.\n"
      ],
      "metadata": {
        "id": "X4pXLDYUTjE6"
      }
    },
    {
      "cell_type": "code",
      "source": [
        "def train_model(model, train_loader, val_loader, criterion, optimizer, epochs): # train model, retain training loss\n",
        "    train_losses = []\n",
        "    train_accuracies = []\n",
        "    val_accuracies = []\n",
        "\n",
        "    for epoch in range(epochs):\n",
        "        model.train()\n",
        "        running_loss = 0.0\n",
        "        correct_train = 0\n",
        "        total_train = 0\n",
        "\n",
        "        for inputs, targets in train_loader:\n",
        "            optimizer.zero_grad()\n",
        "            outputs = model(inputs)\n",
        "            loss = criterion(outputs.squeeze(), targets.view(-1))\n",
        "            loss.backward()\n",
        "            optimizer.step()\n",
        "\n",
        "            running_loss += loss.item()\n",
        "\n",
        "            # Calculate training accuracy\n",
        "            predictions = (outputs > 0.5).float()\n",
        "            correct_train += (predictions.squeeze() == targets).sum().item()\n",
        "            total_train += targets.size(0)\n",
        "\n",
        "       # Record training loss and accuracy for this epoch\n",
        "        train_losses.append(running_loss / len(train_loader))\n",
        "        train_accuracy = correct_train / total_train\n",
        "        train_accuracies.append(train_accuracy)\n",
        "\n",
        "        # Validate the model\n",
        "        model.eval()\n",
        "        correct_val = 0\n",
        "        total_val = 0\n",
        "\n",
        "        with torch.no_grad():\n",
        "            for inputs, labels in val_loader:\n",
        "                outputs = model(inputs)\n",
        "                predictions = (outputs > 0.5).float()\n",
        "                correct_val += (predictions.squeeze() == labels).sum().item()\n",
        "                total_val += labels.size(0)\n",
        "\n",
        "        # Record validation accuracy for this epoch\n",
        "        val_accuracy = correct_val / total_val\n",
        "        val_accuracies.append(val_accuracy)\n",
        "\n",
        "    return train_losses, train_accuracies, val_accuracies"
      ],
      "metadata": {
        "id": "cFR3RWzvnvth"
      },
      "execution_count": 4,
      "outputs": []
    },
    {
      "cell_type": "code",
      "source": [
        "# Single RNN Layer\n",
        "class RNN(nn.Module):\n",
        "    def __init__(self, input_size, hidden_size):\n",
        "        super(RNN, self).__init__()\n",
        "        self.rnn = nn.RNN(input_size, hidden_size, num_layers=2, batch_first=True)\n",
        "        self.fc = nn.Linear(hidden_size, 1)\n",
        "\n",
        "    def forward(self, x):\n",
        "        _, hidden = self.rnn(x)\n",
        "        # Take the hidden state from the last layer\n",
        "        out = hidden[-1, :, :]\n",
        "        out = self.fc(out)\n",
        "        return out\n",
        "\n",
        "# Create DataLoader for training\n",
        "train_dataset = TensorDataset(torch.tensor(X_train, dtype=torch.float32)[:, :, np.newaxis], torch.tensor(y_train, dtype=torch.float32)[:, np.newaxis])\n",
        "train_loader = DataLoader(train_dataset, batch_size=64, shuffle=True)\n",
        "\n",
        "# Create DataLoader for validation\n",
        "val_dataset = TensorDataset(X_val.unsqueeze(2), y_val.unsqueeze(1))\n",
        "val_loader = DataLoader(val_dataset, batch_size=64, shuffle=False)\n",
        "\n",
        "# Instantiate the model, loss function, and optimizer\n",
        "input_size = 96\n",
        "hidden_size = 64\n",
        "model1 = RNN(input_size, hidden_size)\n",
        "criterion = nn.BCEWithLogitsLoss()\n",
        "optimizer = optim.Adam(model1.parameters(), lr=0.001)"
      ],
      "metadata": {
        "id": "2LsCcBUjRzXe",
        "colab": {
          "base_uri": "https://localhost:8080/",
          "height": 0
        },
        "outputId": "3f9b0299-47aa-4882-eae2-018dd3bdd480"
      },
      "execution_count": 43,
      "outputs": [
        {
          "output_type": "stream",
          "name": "stderr",
          "text": [
            "<ipython-input-43-cfac2fc5f121>:16: UserWarning: To copy construct from a tensor, it is recommended to use sourceTensor.clone().detach() or sourceTensor.clone().detach().requires_grad_(True), rather than torch.tensor(sourceTensor).\n",
            "  train_dataset = TensorDataset(torch.tensor(X_train, dtype=torch.float32)[:, :, np.newaxis], torch.tensor(y_train, dtype=torch.float32)[:, np.newaxis])\n"
          ]
        }
      ]
    },
    {
      "cell_type": "code",
      "source": [
        "train_losses, train_accuracies, val_accuracies = train_model(model1, train_loader, val_loader, criterion, optimizer, epochs=10)\n",
        "\n",
        "plt.figure(figsize=(12, 4))\n",
        "\n",
        "# Plot training loss\n",
        "plt.subplot(1, 2, 1)\n",
        "plt.plot(train_losses, label='Training Loss')\n",
        "plt.title('Training Loss')\n",
        "plt.xlabel('Epoch')\n",
        "plt.ylabel('Loss')\n",
        "plt.legend()\n",
        "\n",
        "# Plot training and validation accuracy\n",
        "plt.subplot(1, 2, 2)\n",
        "plt.plot(train_accuracies, label='Training Accuracy')\n",
        "plt.plot(val_accuracies, label='Validation Accuracy')\n",
        "plt.title('Training and Validation Accuracy')\n",
        "plt.xlabel('Epoch')\n",
        "plt.ylabel('Accuracy')\n",
        "plt.legend()\n",
        "\n",
        "plt.tight_layout()\n",
        "plt.show()"
      ],
      "metadata": {
        "id": "C4xXp5nHp7es"
      },
      "execution_count": null,
      "outputs": []
    },
    {
      "cell_type": "code",
      "source": [
        "for inputs, targets in train_loader:\n",
        "  print(inputs.shape)\n",
        "  #print(inputs.shape[-1])\n",
        "  #model(inputs)"
      ],
      "metadata": {
        "id": "9dIGyT9yyqYZ"
      },
      "execution_count": null,
      "outputs": []
    },
    {
      "cell_type": "markdown",
      "source": [
        "As shown above in the left panel, the single-layer RNN's loss decreases gradually throughout the epochs, with an interesting jump after 8 epochs. This implies that the loss would either continue to increase with more epochs, or stabilize at around 0.580 training loss. Either way, the model performs better with more epochs.\n",
        "\n",
        "On the right panel, the training accuracy also diminishes with more epochs. Because the model's accuracy is around 30-40%, this implies that it does not do well at recovering instances of electoral violence. Supportive to this is that the validation accuracy is very unstable, meaning that this model is likely overfitting my data."
      ],
      "metadata": {
        "id": "uxie6B8Qsxal"
      }
    },
    {
      "cell_type": "code",
      "source": [
        "# Define LSTM RNN\n",
        "class RNN(nn.Module):\n",
        "    def __init__(self, input_size, hidden_size):\n",
        "        super(RNN, self).__init__()\n",
        "        self.rnn = nn.LSTM(input_size, hidden_size, num_layers=2, batch_first=True)\n",
        "        self.fc = nn.Linear(hidden_size, 1)\n",
        "\n",
        "    def forward(self, x):\n",
        "        # LSTM input: (batch_size, seq_len, input_size)\n",
        "        _, (hidden, _) = self.rnn(x)\n",
        "        # Take the hidden state from the last layer\n",
        "        out = hidden[-1, :, :]\n",
        "        out = self.fc(out)\n",
        "        return out\n",
        "\n",
        "#### LSTM RNN\n",
        "\n",
        "# Create DataLoader for training\n",
        "train_dataset = TensorDataset(torch.tensor(X_train, dtype=torch.float32)[:, :, np.newaxis], torch.tensor(y_train, dtype=torch.float32)[:, np.newaxis])\n",
        "train_loader = DataLoader(train_dataset, batch_size=64, shuffle=True)\n",
        "\n",
        "# Create DataLoader for validation\n",
        "val_dataset = TensorDataset(X_val.unsqueeze(2), y_val.unsqueeze(1))\n",
        "val_loader = DataLoader(val_dataset, batch_size=64, shuffle=False)\n",
        "\n",
        "# Instantiate the model, loss function, and optimizer\n",
        "input_size = X_processed.shape[1]\n",
        "hidden_size = 64\n",
        "model2 = RNN(input_size, hidden_size)\n",
        "criterion = nn.BCEWithLogitsLoss()\n",
        "optimizer = optim.Adam(model2.parameters(), lr=0.001)"
      ],
      "metadata": {
        "colab": {
          "base_uri": "https://localhost:8080/",
          "height": 0
        },
        "id": "k3o5WGu6nstv",
        "outputId": "ab672944-cd8b-4d57-ff73-93db04abe2fe"
      },
      "execution_count": 44,
      "outputs": [
        {
          "output_type": "stream",
          "name": "stderr",
          "text": [
            "<ipython-input-44-45b1d1fbd557>:19: UserWarning: To copy construct from a tensor, it is recommended to use sourceTensor.clone().detach() or sourceTensor.clone().detach().requires_grad_(True), rather than torch.tensor(sourceTensor).\n",
            "  train_dataset = TensorDataset(torch.tensor(X_train, dtype=torch.float32)[:, :, np.newaxis], torch.tensor(y_train, dtype=torch.float32)[:, np.newaxis])\n"
          ]
        }
      ]
    },
    {
      "cell_type": "code",
      "source": [
        "train_losses, train_accuracies, val_accuracies = train_model(model2, train_loader, val_loader, criterion, optimizer, epochs=10)\n",
        "plt.figure(figsize=(12, 4))\n",
        "\n",
        "# Plot training loss\n",
        "plt.subplot(1, 2, 1)\n",
        "plt.plot(train_losses, label='Training Loss')\n",
        "plt.title('Training Loss')\n",
        "plt.xlabel('Epoch')\n",
        "plt.ylabel('Loss')\n",
        "plt.legend()\n",
        "\n",
        "# Plot training and validation accuracy\n",
        "plt.subplot(1, 2, 2)\n",
        "plt.plot(train_accuracies, label='Training Accuracy')\n",
        "plt.plot(val_accuracies, label='Validation Accuracy')\n",
        "plt.title('Training and Validation Accuracy')\n",
        "plt.xlabel('Epoch')\n",
        "plt.ylabel('Accuracy')\n",
        "plt.legend()\n",
        "\n",
        "plt.tight_layout()\n",
        "plt.show()"
      ],
      "metadata": {
        "colab": {
          "base_uri": "https://localhost:8080/",
          "height": 427
        },
        "id": "wtwT6lBKqilX",
        "outputId": "83564a3b-807a-4a75-eb50-128714026825"
      },
      "execution_count": 14,
      "outputs": [
        {
          "output_type": "display_data",
          "data": {
            "text/plain": [
              "<Figure size 1200x400 with 2 Axes>"
            ],
            "image/png": "[encoded data removed]"
          },
          "metadata": {}
        }
      ]
    },
    {
      "cell_type": "markdown",
      "source": [
        "The plots above show the loss and accuracy of the LSTM model. Intitially, these plots look better than the single-layer RNN. The left panel depicts a diminishing training loss across epochs, meaning the model is performing better with more batches. In the right panel, the training accuracy dips around 2 epochs, but increases to stabilize around 34% for the remaining. The validation accuracy increases and begins to converge with the training accuracy, meaning that the model performs well against unseen validation data and isn't necesarily overfitting as much as the previous model. Finally, the accuracy is a little bit smaller than the previous model, meaning it does not recover as many accuracy predictions of electoral violence. Even so, there is a trade off in convergence of the validation and training accuracy versus a low accuracy overall."
      ],
      "metadata": {
        "id": "xK16Nd_RuB6J"
      }
    },
    {
      "cell_type": "markdown",
      "source": [
        "## Question 3\n",
        "Because the LSTM RNN model performed best at recovering accurate predictions of electoral violence, I will use that model to predict instances of electoral violence. The LSTM RNN model predicts 588 cases of electoral violence out of 1528, with an accuracy score of 38%. While this is a low accuracy score, the model still provides a step in predicting electoral violence based on various predictor variables stated by the literature."
      ],
      "metadata": {
        "id": "XPyGahiYT7_L"
      }
    },
    {
      "cell_type": "code",
      "source": [
        "def predict_with_model(model, data_loader):\n",
        "    model.eval()\n",
        "    predictions = []\n",
        "\n",
        "    with torch.no_grad():\n",
        "        for inputs, in data_loader:  # Unpack the single-element tuple\n",
        "            outputs = model(inputs)\n",
        "            predictions.extend(outputs.squeeze().cpu().numpy())\n",
        "\n",
        "    predictions = (np.array(predictions) > 0.5).astype(int)\n",
        "    return predictions"
      ],
      "metadata": {
        "id": "_3F0rMx0zdRJ"
      },
      "execution_count": 40,
      "outputs": []
    },
    {
      "cell_type": "code",
      "source": [
        "test_dataset = TensorDataset(torch.tensor(X_val, dtype=torch.float32)[:, :, np.newaxis])\n",
        "test_loader = DataLoader(test_dataset, batch_size=64, shuffle=False)\n",
        "predictions = predict_with_model(model2, test_loader)\n",
        "\n",
        "# Convert predictions and ground truth to numpy arrays\n",
        "predictions_np = np.array(predictions)\n",
        "y_val_np = y_val.numpy()\n",
        "\n",
        "# Check if predictions are correct\n",
        "correct_predictions = predictions_np == y_val_np\n",
        "accuracy = np.sum(correct_predictions) / len(predictions_np)\n",
        "\n",
        "print(\"Cases:\", len(predictions_np))\n",
        "print(\"Correct Predictions:\", np.sum(correct_predictions))\n",
        "print(f\"Accuracy: {accuracy:.3f}\")"
      ],
      "metadata": {
        "colab": {
          "base_uri": "https://localhost:8080/",
          "height": 0
        },
        "id": "ibIkQc-LzOta",
        "outputId": "cec59387-532e-43de-9608-bf04600cf2a7"
      },
      "execution_count": 47,
      "outputs": [
        {
          "output_type": "stream",
          "name": "stderr",
          "text": [
            "<ipython-input-47-20b6f52bee5f>:1: UserWarning: To copy construct from a tensor, it is recommended to use sourceTensor.clone().detach() or sourceTensor.clone().detach().requires_grad_(True), rather than torch.tensor(sourceTensor).\n",
            "  test_dataset = TensorDataset(torch.tensor(X_val, dtype=torch.float32)[:, :, np.newaxis])\n"
          ]
        },
        {
          "output_type": "stream",
          "name": "stdout",
          "text": [
            "Cases: 1528\n",
            "Correct Predictions: 588\n",
            "Accuracy: 0.385\n"
          ]
        }
      ]
    }
  ]
}